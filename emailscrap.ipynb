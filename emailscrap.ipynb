import pandas as pd
my_csv = pd.read_csv('5emailedit.csv') #I had a file named 5emailedit.csv
column = my_csv['Name of the Issuer\nName of the Business'] #collecting business names and location from a column of my csv file.
business=[] #To create a  a list of business names from above column removing location.
for name in column():
    x=name.split()
    business.append(x[0])
    x.clear()
    #after creating a list of business names ,create urls from those business name thena scrap all the emails from those websites
