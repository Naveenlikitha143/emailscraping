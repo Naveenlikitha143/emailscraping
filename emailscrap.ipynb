import re
from urllib.parse import urlsplit
from collections import deque
from bs4 import BeautifulSoup
from google.colab import files
import requests
import bs4
import pandas as pd
my_csv = pd.read_csv('/content/5emailedit.csv')
column = my_csv['Name of the Issuer\nName of the Business']
for name in column:
    text="{}".format(name)
    url='https://google.com/search?q='+text
    request_results=requests.get(url)
    soup=bs4.BeautifulSoup(request_results.text,"html.parser")
    for link in soup.find_all('a'):
        x=link.get('href')
        unscraped = deque([x])
        scraped = set()  

        emails = set()  

        while len(unscraped):
            url = unscraped.popleft()  
            scraped.add(url)

            parts = urlsplit(url)
        
            base_url = "{0.scheme}://{0.netloc}".format(parts)
            if '/' in parts.path:
                path = url[:url.rfind('/')+1]
            else:
                path = url

                print("Crawling URL %s" % url)
            try:
                response = requests.get(url)
            except (requests.exceptions.MissingSchema, requests.exceptions.ConnectionError):
                continue

            new_emails = set(re.findall(r"[a-z0-9\.\-+_]+@[a-z0-9\.\-+_]+\.com", response.text, re.I))
            emails.update(new_emails) 

            soup = BeautifulSoup(response.text, 'lxml')

            for anchor in soup.find_all("a"):
                if "href" in anchor.attrs:
                    link = anchor.attrs["href"]
                else:
                    link = ''

                    if link.startswith('/'):
                        link = base_url + link
        
                    elif not link.startswith('http'):
                        link = path + link

                    if not link.endswith(".gz"):
                        if not link in unscraped and not link in scraped:
                            unscraped.append(link)

        df = pd.DataFrame(emails, columns=["Email"])
        df.to_csv('email.csv', index=False)

files.download("email.csv")
