{
 "cells": [
  {
   "cell_type": "code",
   "execution_count": 5,
   "id": "complete-complaint",
   "metadata": {},
   "outputs": [],
   "source": [
    "import pandas as pd\n",
    "df=pd.read_csv('5emailedit.csv')\n",
    "\n"
   ]
  },
  {
   "cell_type": "code",
   "execution_count": 6,
   "id": "future-mineral",
   "metadata": {},
   "outputs": [
    {
     "name": "stdout",
     "output_type": "stream",
     "text": [
      "[['1564981', ' 1 South Wacker Holdings, LLC', ' 757-640-0800', '', ' Pinchas Richard Mendlovic', '', ' Thomas Richard Litton, Jr.', '', ' Jordan E Slone', '', ' T. Richard Litton, Jr.', ''], ['1766505', ' 1000 Washington (Boston) Holdings, LLC', ' 323-860-4900', '', ' Kelly V. Eppich', '', ' Steven V. Puodziunas', '', ' Richard S. Ressler', '', ' Jordan Dembo', '']]\n"
     ]
    }
   ],
   "source": [
    "import csv\n",
    "with open('5emailedit.csv') as fd:\n",
    "    reader=csv.reader(fd)\n",
    "    interestingrows=[row for idx, row in enumerate(reader) if idx in (28,62)]\n",
    "    print(interestingrows)"
   ]
  },
  {
   "cell_type": "code",
   "execution_count": 7,
   "id": "continental-encoding",
   "metadata": {},
   "outputs": [
    {
     "name": "stdout",
     "output_type": "stream",
     "text": [
      "0              #1 A LifeSafer Holdings, Inc.\n",
      "1         #1 Arizona Discount Properties LLC\n",
      "2                                 $avy, Inc.\n",
      "3                    &TV Communications Inc.\n",
      "4          &vest Domestic Fund II KPIV, L.P.\n",
      "                        ...                 \n",
      "92683                Zyus Life Sciences Inc.\n",
      "92684                            ZYWIE, INC.\n",
      "92685                          ZZ Global LLC\n",
      "92686                               ZZX, LLC\n",
      "92687                                  92687\n",
      "Name: Name of the Issuer\\nName of the Business, Length: 92688, dtype: object\n"
     ]
    }
   ],
   "source": [
    "import pandas as pd\n",
    "my_csv = pd.read_csv('5emailedit.csv')\n",
    "column = my_csv['Name of the Issuer\\nName of the Business']\n",
    "print(column)\n",
    "business=[]\n",
    "for name in column:\n",
    "    url=\"https://www.\"+name+\".com\"\n",
    "    "
   ]
  },
  {
   "cell_type": "code",
   "execution_count": 9,
   "id": "beautiful-newport",
   "metadata": {},
   "outputs": [
    {
     "ename": "TypeError",
     "evalue": "'Series' object is not callable",
     "output_type": "error",
     "traceback": [
      "\u001b[1;31m---------------------------------------------------------------------------\u001b[0m",
      "\u001b[1;31mTypeError\u001b[0m                                 Traceback (most recent call last)",
      "\u001b[1;32m<ipython-input-9-f6a7bcc4cefb>\u001b[0m in \u001b[0;36m<module>\u001b[1;34m\u001b[0m\n\u001b[0;32m      3\u001b[0m \u001b[0mcolumn\u001b[0m \u001b[1;33m=\u001b[0m \u001b[0mmy_csv\u001b[0m\u001b[1;33m[\u001b[0m\u001b[1;34m'Name of the Issuer\\nName of the Business'\u001b[0m\u001b[1;33m]\u001b[0m\u001b[1;33m\u001b[0m\u001b[1;33m\u001b[0m\u001b[0m\n\u001b[0;32m      4\u001b[0m \u001b[0mbusiness\u001b[0m\u001b[1;33m=\u001b[0m\u001b[1;33m[\u001b[0m\u001b[1;33m]\u001b[0m \u001b[1;31m#creating a list of business names from columns\u001b[0m\u001b[1;33m\u001b[0m\u001b[1;33m\u001b[0m\u001b[0m\n\u001b[1;32m----> 5\u001b[1;33m \u001b[1;32mfor\u001b[0m \u001b[0mname\u001b[0m \u001b[1;32min\u001b[0m \u001b[0mcolumn\u001b[0m\u001b[1;33m(\u001b[0m\u001b[1;33m)\u001b[0m\u001b[1;33m:\u001b[0m\u001b[1;33m\u001b[0m\u001b[1;33m\u001b[0m\u001b[0m\n\u001b[0m\u001b[0;32m      6\u001b[0m     \u001b[0mx\u001b[0m\u001b[1;33m=\u001b[0m\u001b[0mname\u001b[0m\u001b[1;33m.\u001b[0m\u001b[0msplit\u001b[0m\u001b[1;33m(\u001b[0m\u001b[1;33m)\u001b[0m\u001b[1;33m\u001b[0m\u001b[1;33m\u001b[0m\u001b[0m\n\u001b[0;32m      7\u001b[0m     \u001b[0mbusiness\u001b[0m\u001b[1;33m.\u001b[0m\u001b[0mappend\u001b[0m\u001b[1;33m(\u001b[0m\u001b[0mx\u001b[0m\u001b[1;33m[\u001b[0m\u001b[1;36m0\u001b[0m\u001b[1;33m]\u001b[0m\u001b[1;33m)\u001b[0m\u001b[1;33m\u001b[0m\u001b[1;33m\u001b[0m\u001b[0m\n",
      "\u001b[1;31mTypeError\u001b[0m: 'Series' object is not callable"
     ]
    }
   ],
   "source": [
    "import pandas as pd\n",
    "my_csv = pd.read_csv('5emailedit.csv')\n",
    "column = my_csv['Name of the Issuer\\nName of the Business']\n",
    "business={} #creating a list of business names from columns\n",
    "for name in column():\n",
    "    x=name.split()\n",
    "    business.append(x[0])\n",
    "    x.clear()"
   ]
  },
  {
   "cell_type": "code",
   "execution_count": null,
   "id": "circular-ground",
   "metadata": {},
   "outputs": [],
   "source": []
  }
 ],
 "metadata": {
  "kernelspec": {
   "display_name": "Python 3",
   "language": "python",
   "name": "python3"
  },
  "language_info": {
   "codemirror_mode": {
    "name": "ipython",
    "version": 3
   },
   "file_extension": ".py",
   "mimetype": "text/x-python",
   "name": "python",
   "nbconvert_exporter": "python",
   "pygments_lexer": "ipython3",
   "version": "3.9.1"
  }
 },
 "nbformat": 4,
 "nbformat_minor": 5
}
